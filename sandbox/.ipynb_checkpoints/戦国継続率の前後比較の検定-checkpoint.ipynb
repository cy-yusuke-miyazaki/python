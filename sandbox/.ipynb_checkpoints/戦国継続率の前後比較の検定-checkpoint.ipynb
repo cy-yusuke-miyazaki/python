{
 "cells": [
  {
   "cell_type": "code",
   "execution_count": 6,
   "metadata": {
    "collapsed": true
   },
   "outputs": [],
   "source": [
    "import numpy as np\n",
    "from scipy import stats"
   ]
  },
  {
   "cell_type": "code",
   "execution_count": 43,
   "metadata": {
    "collapsed": true
   },
   "outputs": [],
   "source": [
    "ios_0 = np.array([[8768,5901],[8269,4631]])"
   ]
  },
  {
   "cell_type": "code",
   "execution_count": 44,
   "metadata": {},
   "outputs": [
    {
     "data": {
      "text/plain": [
       "array([[8768, 5901],\n",
       "       [8269, 4631]])"
      ]
     },
     "execution_count": 44,
     "metadata": {},
     "output_type": "execute_result"
    }
   ],
   "source": [
    "ios_0"
   ]
  },
  {
   "cell_type": "code",
   "execution_count": 45,
   "metadata": {},
   "outputs": [
    {
     "name": "stdout",
     "output_type": "stream",
     "text": [
      "p値 1.73062666685e-13\n",
      "有意差あり\n"
     ]
    }
   ],
   "source": [
    "#カイ二乗検定\n",
    "g, p, dof, expctd=stats.chi2_contingency(ios_0)\n",
    "print(\"p値\",(p))\n",
    "if p < 0.05:\n",
    "    print(\"有意差あり\")\n",
    "else:\n",
    "    print(\"有意差なし\")"
   ]
  },
  {
   "cell_type": "code",
   "execution_count": 46,
   "metadata": {
    "collapsed": true
   },
   "outputs": [],
   "source": [
    "ios_1 = np.array([[1743,1678],[1554,1347]])"
   ]
  },
  {
   "cell_type": "code",
   "execution_count": 47,
   "metadata": {},
   "outputs": [
    {
     "data": {
      "text/plain": [
       "array([[1743, 1678],\n",
       "       [1554, 1347]])"
      ]
     },
     "execution_count": 47,
     "metadata": {},
     "output_type": "execute_result"
    }
   ],
   "source": [
    "ios_1"
   ]
  },
  {
   "cell_type": "code",
   "execution_count": 48,
   "metadata": {},
   "outputs": [
    {
     "name": "stdout",
     "output_type": "stream",
     "text": [
      "p値 0.0402685818383\n",
      "有意差あり\n"
     ]
    }
   ],
   "source": [
    "g, p, dof, expctd=stats.chi2_contingency(ios_1)\n",
    "print(\"p値\",(p))\n",
    "if p < 0.05:\n",
    "    print(\"有意差あり\")\n",
    "else:\n",
    "    print(\"有意差なし\")"
   ]
  },
  {
   "cell_type": "code",
   "execution_count": 29,
   "metadata": {
    "collapsed": true
   },
   "outputs": [],
   "source": [
    "android_0 = np.array([[4211,2631],[4524,2441]])"
   ]
  },
  {
   "cell_type": "code",
   "execution_count": 30,
   "metadata": {},
   "outputs": [
    {
     "name": "stdout",
     "output_type": "stream",
     "text": [
      "p値 3.56021618062e-05\n",
      "有意差あり\n"
     ]
    }
   ],
   "source": [
    "g, p, dof, expctd=stats.chi2_contingency(android_0)\n",
    "print(\"p値\",(p))\n",
    "if p < 0.05:\n",
    "    print(\"有意差あり\")\n",
    "else:\n",
    "    print(\"有意差なし\")"
   ]
  },
  {
   "cell_type": "code",
   "execution_count": 31,
   "metadata": {
    "collapsed": true
   },
   "outputs": [],
   "source": [
    "android_1 = np.array([[947,776],[763,777]])"
   ]
  },
  {
   "cell_type": "code",
   "execution_count": 32,
   "metadata": {},
   "outputs": [
    {
     "name": "stdout",
     "output_type": "stream",
     "text": [
      "p値 0.0022294094755\n",
      "有意差あり\n"
     ]
    }
   ],
   "source": [
    "g, p, dof, expctd=stats.chi2_contingency(android_1)\n",
    "print(\"p値\",(p))\n",
    "if p < 0.05:\n",
    "    print(\"有意差あり\")\n",
    "else:\n",
    "    print(\"有意差なし\")"
   ]
  },
  {
   "cell_type": "code",
   "execution_count": 1,
   "metadata": {
    "collapsed": true
   },
   "outputs": [],
   "source": [
    "#adjustデータの検定"
   ]
  },
  {
   "cell_type": "code",
   "execution_count": 7,
   "metadata": {},
   "outputs": [],
   "source": [
    "ios_org = np.array([[2860,2285],[2232,1567]])"
   ]
  },
  {
   "cell_type": "code",
   "execution_count": 8,
   "metadata": {},
   "outputs": [
    {
     "name": "stdout",
     "output_type": "stream",
     "text": [
      "p値 0.0030191325445\n",
      "有意差あり\n"
     ]
    }
   ],
   "source": [
    "g, p, dof, expctd=stats.chi2_contingency(ios_org)\n",
    "print(\"p値\",(p))\n",
    "if p < 0.05:\n",
    "    print(\"有意差あり\")\n",
    "else:\n",
    "    print(\"有意差なし\")"
   ]
  },
  {
   "cell_type": "code",
   "execution_count": 9,
   "metadata": {
    "collapsed": true
   },
   "outputs": [],
   "source": [
    "ios_pic = np.array([[2054,1134],[2201,902]])"
   ]
  },
  {
   "cell_type": "code",
   "execution_count": 10,
   "metadata": {},
   "outputs": [
    {
     "name": "stdout",
     "output_type": "stream",
     "text": [
      "p値 4.15568949028e-08\n",
      "有意差あり\n"
     ]
    }
   ],
   "source": [
    "g, p, dof, expctd=stats.chi2_contingency(ios_pic)\n",
    "print(\"p値\",(p))\n",
    "if p < 0.05:\n",
    "    print(\"有意差あり\")\n",
    "else:\n",
    "    print(\"有意差なし\")"
   ]
  },
  {
   "cell_type": "code",
   "execution_count": 11,
   "metadata": {
    "collapsed": true
   },
   "outputs": [],
   "source": [
    "ios_mov = np.array([[5031,3041],[3763,1847]])"
   ]
  },
  {
   "cell_type": "code",
   "execution_count": 12,
   "metadata": {},
   "outputs": [
    {
     "name": "stdout",
     "output_type": "stream",
     "text": [
      "p値 1.31055940652e-08\n",
      "有意差あり\n"
     ]
    }
   ],
   "source": [
    "g, p, dof, expctd=stats.chi2_contingency(ios_mov)\n",
    "print(\"p値\",(p))\n",
    "if p < 0.05:\n",
    "    print(\"有意差あり\")\n",
    "else:\n",
    "    print(\"有意差なし\")"
   ]
  },
  {
   "cell_type": "code",
   "execution_count": 13,
   "metadata": {
    "collapsed": true
   },
   "outputs": [],
   "source": [
    "ios_twi = np.array([[91,87],[121,99]])"
   ]
  },
  {
   "cell_type": "code",
   "execution_count": 14,
   "metadata": {},
   "outputs": [
    {
     "name": "stdout",
     "output_type": "stream",
     "text": [
      "p値 0.503088095411\n",
      "有意差なし\n"
     ]
    }
   ],
   "source": [
    "g, p, dof, expctd=stats.chi2_contingency(ios_twi)\n",
    "print(\"p値\",(p))\n",
    "if p < 0.05:\n",
    "    print(\"有意差あり\")\n",
    "else:\n",
    "    print(\"有意差なし\")"
   ]
  },
  {
   "cell_type": "code",
   "execution_count": 15,
   "metadata": {
    "collapsed": true
   },
   "outputs": [],
   "source": [
    "android_org = np.array([[702,395],[1761,925]])"
   ]
  },
  {
   "cell_type": "code",
   "execution_count": 16,
   "metadata": {},
   "outputs": [
    {
     "name": "stdout",
     "output_type": "stream",
     "text": [
      "p値 0.378104068469\n",
      "有意差なし\n"
     ]
    }
   ],
   "source": [
    "g, p, dof, expctd=stats.chi2_contingency(android_org)\n",
    "print(\"p値\",(p))\n",
    "if p < 0.05:\n",
    "    print(\"有意差あり\")\n",
    "else:\n",
    "    print(\"有意差なし\")"
   ]
  },
  {
   "cell_type": "code",
   "execution_count": 17,
   "metadata": {
    "collapsed": true
   },
   "outputs": [],
   "source": [
    "android_pic = np.array([[1077,402],[3531,1389]])"
   ]
  },
  {
   "cell_type": "code",
   "execution_count": 18,
   "metadata": {},
   "outputs": [
    {
     "name": "stdout",
     "output_type": "stream",
     "text": [
      "p値 0.449318083202\n",
      "有意差なし\n"
     ]
    }
   ],
   "source": [
    "g, p, dof, expctd=stats.chi2_contingency(android_pic)\n",
    "print(\"p値\",(p))\n",
    "if p < 0.05:\n",
    "    print(\"有意差あり\")\n",
    "else:\n",
    "    print(\"有意差なし\")"
   ]
  },
  {
   "cell_type": "code",
   "execution_count": 19,
   "metadata": {
    "collapsed": true
   },
   "outputs": [],
   "source": [
    "android_mov = np.array([[635,191],[2112,501]])"
   ]
  },
  {
   "cell_type": "code",
   "execution_count": 20,
   "metadata": {},
   "outputs": [
    {
     "name": "stdout",
     "output_type": "stream",
     "text": [
      "p値 0.0155824117069\n",
      "有意差あり\n"
     ]
    }
   ],
   "source": [
    "g, p, dof, expctd=stats.chi2_contingency(android_mov)\n",
    "print(\"p値\",(p))\n",
    "if p < 0.05:\n",
    "    print(\"有意差あり\")\n",
    "else:\n",
    "    print(\"有意差なし\")"
   ]
  },
  {
   "cell_type": "code",
   "execution_count": null,
   "metadata": {
    "collapsed": true
   },
   "outputs": [],
   "source": []
  }
 ],
 "metadata": {
  "kernelspec": {
   "display_name": "Python 3",
   "language": "python",
   "name": "python3"
  },
  "language_info": {
   "codemirror_mode": {
    "name": "ipython",
    "version": 3
   },
   "file_extension": ".py",
   "mimetype": "text/x-python",
   "name": "python",
   "nbconvert_exporter": "python",
   "pygments_lexer": "ipython3",
   "version": "3.6.1"
  }
 },
 "nbformat": 4,
 "nbformat_minor": 2
}
